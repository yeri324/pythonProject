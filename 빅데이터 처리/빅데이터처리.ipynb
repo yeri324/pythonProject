{
 "cells": [
  {
   "cell_type": "code",
   "execution_count": 1,
   "id": "984c0dea-193a-486d-bcff-9150714dd661",
   "metadata": {},
   "outputs": [
    {
     "name": "stdout",
     "output_type": "stream",
     "text": [
      "01 ['2023-01-12', 15.6, -3.5, 19.1]\n",
      "02 ['2023-02-27', 14.7, -4.4, 19.1]\n",
      "03 ['2023-03-22', 25.8, 6.9, 18.9]\n",
      "04 ['2023-04-19', 28.0, 13.2, 14.8]\n",
      "05 ['2023-05-17', 31.4, 15.6, 15.799999999999999]\n",
      "06 ['2023-06-19', 33.5, 19.8, 13.7]\n",
      "07 ['2023-07-29', 35.0, 24.6, 10.399999999999999]\n",
      "08 ['2023-08-06', 35.7, 24.8, 10.900000000000002]\n",
      "09 ['2023-09-03', 32.5, 22.3, 10.2]\n",
      "10 ['2023-10-04', 24.1, 10.9, 13.200000000000001]\n",
      "11 ['2023-11-02', 26.3, 13.9, 12.4]\n",
      "12 ['2023-12-09', 19.8, 8.6, 11.200000000000001]\n",
      "2000년부터 가장 기온이 높았던 날짜는 2018-08-15이고, 기온은 39.4입니다.\n"
     ]
    }
   ],
   "source": [
    "# 날씨데이터파일을 활용\n",
    "# 1.데이터를 읽어온 뒤, next함수로 헤더제거\n",
    "import csv\n",
    "file = open('data/대전기온.csv')\n",
    "data=csv.reader(file)\n",
    "header=next(data)\n",
    "\n",
    "# 2. 날짜,최저기온,최고기온을 result 리스트에 저장하고 출력\n",
    "data_list=[]\n",
    "\n",
    "for row in data:\n",
    "    row[1:] = map(float,row[1:])\n",
    "    data_list.append([row[0],row[2],row[3]])\n",
    "for row in data_list:\n",
    "    print(row)\n",
    "\n",
    "# 3. 날짜별 일교차를 구하여 리스트로 result에 저장\n",
    "for row in data_list:\n",
    "    row.append(row[1]-row[2])\n",
    "\n",
    "# 4. 월별 최고기온에 해당하는 날짜와 최고기온, 최저기온데이터를 updown.csv파일로 저장\n",
    "result_df={}\n",
    "for row in data_list:\n",
    "    r_mon=row[0].split('-')[1]\n",
    "    if r_mon not in result_df:\n",
    "        result_df[r_mon]=row\n",
    "    if(result_df[r_mon][1]<row[1]):\n",
    "        result_df[r_mon]=row\n",
    "\n",
    "file = open('data/updown.csv','w',newline='',encoding='cp949')\n",
    "writer = csv.writer(file)\n",
    "for key,value in result_df.items():\n",
    "    writer.writerow([key,value[0],value[1],value[2]])\n",
    "\n",
    "file.close()\n",
    "\n",
    "# 5. 2000년부터 가장 기온이 높았던 날짜는 얹[인지 찾아 날짜와 기온을 출력\n",
    "file = open('data/daejeon.csv')\n",
    "data=csv.reader(file)\n",
    "header=next(data)\n",
    "max_tem=0.0\n",
    "for row in data:\n",
    "    row[4] = float(row[4])\n",
    "    if max_tem<row[4]:\n",
    "        max_tem=row[4]\n",
    "        max_date=row[2]\n",
    "print(\"2000년부터 가장 기온이 높았던 날짜는 {}이고, 기온은 {}입니다.\".format(max_date,max_tem))"
   ]
  }
 ],
 "metadata": {
  "kernelspec": {
   "display_name": "Python 3 (ipykernel)",
   "language": "python",
   "name": "python3"
  },
  "language_info": {
   "codemirror_mode": {
    "name": "ipython",
    "version": 3
   },
   "file_extension": ".py",
   "mimetype": "text/x-python",
   "name": "python",
   "nbconvert_exporter": "python",
   "pygments_lexer": "ipython3",
   "version": "3.11.7"
  }
 },
 "nbformat": 4,
 "nbformat_minor": 5
}
