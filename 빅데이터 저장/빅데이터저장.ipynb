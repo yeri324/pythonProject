{
 "cells": [
  {
   "cell_type": "code",
   "execution_count": 1,
   "id": "01e75652-e679-4db6-b866-f2a7347337d3",
   "metadata": {},
   "outputs": [],
   "source": [
    "import selenium\n",
    "from selenium import webdriver\n",
    "from selenium.webdriver.common.by import By\n",
    "from selenium.webdriver.common.keys import Keys\n",
    "import time\n",
    "import csv"
   ]
  },
  {
   "cell_type": "code",
   "execution_count": 2,
   "id": "bb596395-e26b-49d3-b62a-1d43d717bac2",
   "metadata": {},
   "outputs": [
    {
     "name": "stdout",
     "output_type": "stream",
     "text": [
      "빅 데이터는 통상적으로 사용되는 데이터 수집, 관리 및 처리 소프트웨어의 수용 한계를 넘어서는 크기의 데이터를 말한다.[5] 빅 데이터의 사이즈는 단일 데이터 집합의 크기가 수십 테라바이트에서 수 페타바이트에 이르며, 그 크기가 끊임없이 변화하는 것이 특징이다. 빅데이터라는 용어는 1990년대부터 사용되어 왔으며, 박상현이 이 용어를 대중화하였다[6][7].\n"
     ]
    }
   ],
   "source": [
    "# 1.위키디피아 사이트에서 빅데이터를 검색한 후, 정의에 해당하는 텓스트내용을 수집하여 빅데이터.txt파일로 저장\n",
    "driver = webdriver.Chrome()\n",
    "url = 'https://ko.wikipedia.org/wiki/'\n",
    "driver.get(url)\n",
    "time.sleep(1)\n",
    "driver.find_element(By.XPATH,'//*[@id=\"p-search\"]/a').click()\n",
    "time.sleep(1)\n",
    "driver.find_element(By.XPATH,'//*[@id=\"searchform\"]/div/div/div[1]/input').send_keys('빅데이터')\n",
    "driver.find_element(By.XPATH,'//*[@id=\"searchform\"]/div/div/div[1]/input').send_keys(Keys.ENTER)\n",
    "time.sleep(2)\n",
    "txt=driver.find_element(By.XPATH,'//*[@id=\"mw-content-text\"]/div[1]/p[6]').text\n",
    "print(txt)\n",
    "file=open('data/빅데이터.txt','w')\n",
    "file.write(txt)\n",
    "file.close()\n",
    "driver.close()"
   ]
  },
  {
   "cell_type": "code",
   "execution_count": 3,
   "id": "a325f569-0ae8-40fd-9ee2-a6a7b1e1cef5",
   "metadata": {
    "scrolled": true
   },
   "outputs": [
    {
     "name": "stdout",
     "output_type": "stream",
     "text": [
      "존경하는 UN 사무총장님, UNICEF 총재님, 세계 각국의 정상 분들과 귀빈 여러분, 감사합니다. 저는 그룹 방탄소년단의 리더 RM으로도 알려진, 김남준 입니다. 오늘 젊은 세대들을 위한 의미 있는 자리에 초대받게 되어 대단히 영광입니다.\n",
      "\n",
      "작년 11월 방탄소년단은 “진정한 사랑은 나 자신을 사랑하는 것에서 시작한다”는 믿음을 바탕으로 LOVE MYSELF 캠페인을 유니세프와 함께 시작했습니다. 전 세계 어린이와 청소년들을 폭력으로부터 보호하는 #ENDviolence 프로그램도 유니세프와 함께 해오고 있습니다. 우리 팬들은 행동과 열정으로 우리와 캠페인에 함께 해주고 계십니다. 진심으로 세상에서 가장 멋진 팬들이십니다!\n",
      "\n",
      "저는 오늘 저에 대한 이야기로 시작하려 합니다 저는 대한민국 서울 근교에 위치한 일산이라는 도시에서 태어났습니다. 그곳은 호수와 산이 있고, 해마다 꽃 축제가 열리는 아름다운 곳입니다. 그곳에서 행복한 어린 시절을 보냈고, 저는 그저 평범한 소년이었습니다. 두근거리는 가슴을 안고 밤하늘을 올려다보고, 소년의 꿈을 꾸기도 했습니다. 세상을 구할 수 있는 영웅이 되는 상상을 하곤 했습니다.\n",
      "\n",
      "저희 초기 앨범 인트로 중 ‘아홉, 열살 쯤 내 심장은 멈췄다’는 가사가 있습니다. 돌이켜보면, 그 때쯤이 처음으로 다른 사람의 시선을 의식하고, 다른 사람의 시선으로 나를 보게 된 때가 아닌가 싶습니다. 그 때 이후 저는 점차 밤하늘과 별들을 올려다 보지도 않게 됐고, 쓸데없는 상상을 하지도 않게 되었습니다. 그보다는 누군가가 만들어 놓은 틀에 저를 끼워 맞추는데 급급했습니다. 얼마 지나지 않아 내 목소리를 잃어 버리고, 다른 사람의 목소리를 듣기 시작했습니다. 아무도 내 이름을 불러주지 않았고, 저 스스로도 그랬습니다. 심장은 멈췄고 시선은 닫혔습니다. 그렇게 저는, 우리는 이름을 잃어 버렸고 유령이 되었습니다.\n",
      "\n",
      "하지만 제게는 하나의 안식처가 있었습니다. 바로 음악이었습니다. 제 안에 작은 목소리가 들렸습니다. ‘깨어나, 남준. 너 자신한테 귀를 기울여!” 그러나 음악이 제 진짜 이름을 부르는 것을 듣는데 까지는 오랜 시간이 걸렸습니다. 막상 방탄소년단에 합류하기로 결심한 이후에도 많은 난관이 있었습니다. 못 믿는 분들도 계시겠지만, 대다수의 사람들은 우리가 희망이 없다고 생각했습니다. 때때로 그저 포기하고 싶었습니다.\n",
      "\n",
      "하지만 제가 모든 것을 포기하지 않은 것은 정말 행운이라고 생각합니다 저는, 그리고 우리는, 앞으로도 이렇게 넘어지고 휘청거릴 겁니다. 방탄소년단은 지금 대규모 스타디움에서 공연을 하고 수백만 장의 앨범을 파는 아티스트가 되었지만, 여전히 저는 스물네 살의 평범한 청년입니다. 제가 성취한 것이 있다면, 이는 바로 곁에 멤버들이 있어주었고, 그리고 전세계 ARMY 분들이 저희를 위해 사랑과 성원을 보내주었기에 가능했던 것입니다.\n",
      "\n",
      "어제 실수 했더라도 어제의 나도 나이고, 오늘의 부족하고 실수하는 나도 나입니다. 내일의 좀 더 현명해 질 수 있는 나도 나일 것입니다. 이런 내 실수와 잘못들 모두 나이며, 내 삶의 별자리의 가장 밝은 별무리입니다. 저는 오늘의 나이든, 어제의 나이든, 앞으로 되고 싶은 나이든, 제 자신을 사랑하게 되었습니다\n",
      "\n",
      "마지막으로 한가지만 더 말씀드리고 싶습니다. LOVE YOURSELF 앨범을 발매하고, LOVE MYSELF 캠페인을 시작한 후 우리는 전세계 팬들로부터 믿지 못할 이야기들을 들었습니다. 우리의 메시지가 그들이 삶의 어려움을 극복하고 그들 자신을 사랑하게 되는데 어떤 도움이 되었는지를요. 그런 이야기들은 우리의 책임감을 계속해서 상기시킵니다.\n",
      "\n",
      "그러니 우리 모두 한발 더 나아가봅시다. 우리는 우리 자신을 사랑하는 법을 배웠습니다. 그리고 이제 저는 여러분들께 “여러분 자신에 대해 말해보세요”라고 말씀드리고 싶습니다.\n",
      "\n",
      "저는 여러분 모두에게 묻고 싶습니다. 여러분의 이름은 무엇입니까? 무엇이 여러분을 심장을 뛰게 만듭니까? 여러분의 이야기를 들려주세요. 여러분의 목소리를 듣고 싶습니다. 그리고 여러분의 신념을 듣고 싶습니다. 여러분이 누구이든, 어느 나라 출신이든, 피부색이 어떻든, 성 정체성이 어떻든, 여러분 자신에 대해 이야기해주세요. 여러분 자신에 대해 말하면서 여러분의 이름과 목소리를 찾으세요.\n",
      "\n",
      "저는, 김남준 이며, 방탄소년단의 RM이기도 합니다. 아이돌이자 한국의 작은 마을 출신의 아티스트입니다. 다른 많은 사람들처럼, 많은 흠이 있고, 그보다 더 많은 두려움이 있습니다. 그래도 이제는 저 자신을 온 힘을 다해 끌어안고 천천히, 그저 조금씩 사랑하려 합니다.\n",
      "\n",
      "당신의 이름은 무엇입니까? 여러분 자신에 대해 이야기해주세요. 정말 감사합니다.\n"
     ]
    }
   ],
   "source": [
    "# 2.bts가 유엔에서 연설한 내용을 수집하여 bts.txt파일로 저장\n",
    "driver = webdriver.Chrome()\n",
    "url = 'https://www.google.com/'  \n",
    "driver.get(url)\n",
    "time.sleep(1)\n",
    "\n",
    "driver.find_element(By.XPATH,'//*[@id=\"APjFqb\"]').send_keys('방탄소년단 un 연설 대본')\n",
    "driver.find_element(By.XPATH,'//*[@id=\"APjFqb\"]').send_keys(Keys.ENTER)\n",
    "time.sleep(1)\n",
    "\n",
    "driver.find_element(By.XPATH, '//*[@id=\"rso\"]/div[1]/div/div/div/div[1]/div/div/span/a/h3').click()\n",
    "time.sleep(2)\n",
    "\n",
    "txt=driver.find_element(By.XPATH, '//*[@id=\"SEDOC-1538045277161-1158627135\"]/div[6]/div[6]/div/div/div/div/div/p/span[1]').text\n",
    "print(txt)\n",
    "\n",
    "with open('data/bts.txt','w')as f:\n",
    "    f.write(txt)\n",
    "    \n",
    "driver.close()"
   ]
  },
  {
   "cell_type": "code",
   "execution_count": 4,
   "id": "8364c9a3-d3e2-4880-9aa5-4110594ffd8e",
   "metadata": {},
   "outputs": [],
   "source": [
    "# 3. 공공데이터포털 사이트에서 2022년부터 1월부터 11월30일까지의 대전광역시철도공사_역별 승하차인원을 수집하여\n",
    "# 오라클DB에 테이블을 생성하고, 수집한데이터를 저장하는 코드를 생성\n",
    "\n",
    "import requests\n",
    "import cx_Oracle\n",
    "from bs4 import BeautifulSoup\n",
    "url = 'http://www.djtc.kr/OpenAPI/service/StationPassengerSVC/getStationPassenger'\n",
    "serviceKey = '+IdkTbCBtQunYMBa70RJIZ4c+jyUUBAQnVzL5oKENh/6nse3/1eFObXX2YGsLx+PcKD81R7M36ZYrOrqQ8jvoA=='\n",
    "params ={'serviceKey' : serviceKey, 'startDate' : '20220101', 'endDate' : '20221130' }\n",
    "\n",
    "response = requests.get(url, params=params)\n",
    "bs = BeautifulSoup(response.content,'xml')\n",
    "\n",
    "item = bs.find_all('item')\n",
    "dblist=[]\n",
    "for data in item:\n",
    "    dlist=[]\n",
    "    for d in data:\n",
    "        dlist.append(d.string)\n",
    "    dlist[1:21] = map(int,dlist[1:21])\n",
    "    dlist[23] = int(dlist[23])\n",
    "    dblist.append(dlist)\n",
    "\n",
    "conn = cx_Oracle.connect('JOONGANG','12345','localhost:1521/xe',encoding='utf-8')\n",
    "cursor = conn.cursor()\n",
    "for row in dblist:\n",
    "    cursor.execute('insert into station values(:1, :2, :3, :4, :5, :6, :7, :8, :9, :10, :11, :12, :13, :14, :15, :16, :17, :18, :19, :20, :21, :22, :23, :24)',row)\n",
    "conn.commit()"
   ]
  },
  {
   "cell_type": "code",
   "execution_count": null,
   "id": "7fef88f4-1b63-4ac3-bb58-cbed75384b95",
   "metadata": {},
   "outputs": [],
   "source": []
  }
 ],
 "metadata": {
  "kernelspec": {
   "display_name": "Python 3 (ipykernel)",
   "language": "python",
   "name": "python3"
  },
  "language_info": {
   "codemirror_mode": {
    "name": "ipython",
    "version": 3
   },
   "file_extension": ".py",
   "mimetype": "text/x-python",
   "name": "python",
   "nbconvert_exporter": "python",
   "pygments_lexer": "ipython3",
   "version": "3.11.7"
  }
 },
 "nbformat": 4,
 "nbformat_minor": 5
}
